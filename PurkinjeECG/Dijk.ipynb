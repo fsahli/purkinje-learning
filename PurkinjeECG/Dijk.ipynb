{
 "cells": [
  {
   "cell_type": "code",
   "execution_count": 1,
   "metadata": {},
   "outputs": [
    {
     "name": "stdout",
     "output_type": "stream",
     "text": [
      "no nodes to consider\n",
      "no nodes to consider\n",
      "no nodes to consider\n"
     ]
    }
   ],
   "source": [
    "from FractalTree import *\n",
    "from parameters import Parameters\n",
    "\n",
    "param=Parameters()\n",
    "param.save = False\n",
    "param.meshfile = \"data/sphere.obj\"\n",
    "\n",
    "branches, nodes = Fractal_Tree_3D(param)"
   ]
  },
  {
   "cell_type": "code",
   "execution_count": 28,
   "metadata": {},
   "outputs": [],
   "source": [
    "import matplotlib.pyplot as plt"
   ]
  },
  {
   "cell_type": "code",
   "execution_count": 86,
   "metadata": {},
   "outputs": [],
   "source": [
    "# end nodes\n",
    "nn,cnt = np.unique(np.concatenate([ np.array(b.nodes)[[0,-1]] for b in branches.values() if len(b.nodes) > 1]),return_counts=True)\n",
    "enodes = nn[cnt==1]"
   ]
  },
  {
   "cell_type": "code",
   "execution_count": 117,
   "metadata": {},
   "outputs": [
    {
     "name": "stdout",
     "output_type": "stream",
     "text": [
      "0 inf\n",
      "1 0.0\n"
     ]
    }
   ],
   "source": [
    "# node to edge map\n",
    "pts = np.array(nodes.nodes)\n",
    "\n",
    "cv = 1.0 # [m/s]\n",
    "\n",
    "act = np.empty(pts.shape[0])\n",
    "act.fill(np.inf)\n",
    "act[enodes[0]]  = 0.0\n",
    "#act[enodes[-1]] = 0.0\n",
    "\n",
    "# we assume no activation in the middle of the branch\n",
    "for k in range(30):\n",
    "    act_old = act.copy()\n",
    "    # iterate over the branches\n",
    "    # NOTE this could be done in parallel\n",
    "    for branch in branches.values():\n",
    "        # points in the branch\n",
    "        bn = branch.nodes\n",
    "        bp = pts[bn,:]\n",
    "        # length of each segment\n",
    "        le = np.linalg.norm(np.diff(bp,axis=0),axis=1)\n",
    "        # activation from first node\n",
    "        dl = np.r_[0.0,np.cumsum(le)] / cv\n",
    "        # update all nodes in the branch from left and right\n",
    "        act[bn] = np.minimum( dl + act[bn[0]], dl[::-1] + act[bn[-1]] )\n",
    "\n",
    "    err = np.linalg.norm(act-act_old)\n",
    "    print(k,np.linalg.norm(act-act_old))\n",
    "    if err < 1e-8: break\n",
    "#plt.plot(act[bn])\n"
   ]
  },
  {
   "cell_type": "code",
   "execution_count": 118,
   "metadata": {},
   "outputs": [],
   "source": [
    "import meshio\n",
    "\n",
    "edges = np.array(sum((list(zip(b.nodes[0:-1],b.nodes[1:])) for b in branches.values() if len(b.nodes) > 1),[]))\n",
    "enod  = np.zeros_like(act,dtype=int)\n",
    "enod[enodes] = 1\n",
    "\n",
    "mesh = meshio.Mesh(points=pts,cells={'line':edges},point_data={'activation':act,'endnode':enod})\n",
    "\n",
    "#mesh = meshio.read(\"sphere-line.vtu\")\n",
    "#mesh.point_data['distance'] = dd*cv\n",
    "mesh.write(\"sphere-line-act.vtu\")\n"
   ]
  },
  {
   "cell_type": "code",
   "execution_count": 88,
   "metadata": {},
   "outputs": [
    {
     "name": "stdout",
     "output_type": "stream",
     "text": [
      "Import of Cupy failed. The GPU version of fimpy will be unavailble. Message: No module named 'cupy'\n"
     ]
    }
   ],
   "source": [
    "from fimpy.solver import FIMPY"
   ]
  },
  {
   "cell_type": "code",
   "execution_count": 178,
   "metadata": {},
   "outputs": [],
   "source": [
    "sphere = meshio.read(\"data/sphere.obj\")\n",
    "\n",
    "spts,selm = sphere.points,sphere.cells[0].data\n",
    "velocity_e = np.ones(selm.shape[0])\n",
    "D = 0.1*np.eye(3)[np.newaxis] * velocity_e[..., np.newaxis, np.newaxis]\n",
    "\n",
    "fim = FIMPY.create_fim_solver(spts,selm,D)\n",
    "phi = fim.comp_fim([0], [0.0])\n",
    "\n",
    "sphere.point_data['activation'] = phi\n",
    "sphere.write(\"sphere-act.vtu\")"
   ]
  },
  {
   "cell_type": "code",
   "execution_count": 179,
   "metadata": {},
   "outputs": [],
   "source": [
    "# entry points\n",
    "epts = pts[enodes[1:],:]\n",
    "eact = act[enodes[1:]]\n",
    "\n",
    "from scipy.spatial import cKDTree as kdtree\n",
    "t = kdtree(sphere.points)\n",
    "\n",
    "# closest points in the mesh\n",
    "d,i = t.query(epts)\n",
    "# some points may overlap, take minimum\n",
    "iu,idx,inv,c = np.unique(i,return_inverse=True,return_index=True,return_counts=True)\n",
    "eactr = eact[idx]\n",
    "for ii in range(eact.shape[0]):\n",
    "    eactr[inv[ii]] = min(eact[ii],eactr[inv[ii]])\n",
    "\n",
    "phi = fim.comp_fim(iu, eactr)\n",
    "sphere.point_data['activation'] = phi\n",
    "sphere.write(\"sphere-act.vtu\")\n",
    "\n",
    "# TBD: TK version with activation within element\n",
    "# check for element in mesh\n",
    "#from Mesh import Mesh\n",
    "#m = Mesh(\"data/sphere.obj\",useVTK=True)\n",
    "#epts[0,:], m.project_new_point( epts[0,:] )\n",
    "\n",
    "#print(epts,eact)"
   ]
  },
  {
   "cell_type": "code",
   "execution_count": 194,
   "metadata": {},
   "outputs": [
    {
     "data": {
      "text/plain": [
       "VTKArray([2.0117457, 1.9839078, 1.95607  , ..., 1.5062255, 1.5122421,\n",
       "          1.5188162], dtype=float32)"
      ]
     },
     "execution_count": 194,
     "metadata": {},
     "output_type": "execute_result"
    }
   ],
   "source": [
    "import vtk\n",
    "from vtkmodules.numpy_interface import dataset_adapter as dsa\n",
    "\n",
    "reader = vtk.vtkXMLUnstructuredGridReader()\n",
    "reader.SetFileName(\"sphere-act.vtu\")\n",
    "reader.Update()\n",
    "\n",
    "reader2 = vtk.vtkXMLUnstructuredGridReader()\n",
    "reader2.SetFileName(\"sphere-line-act.vtu\")\n",
    "reader2.Update()\n",
    "\n",
    "probe = vtk.vtkProbeFilter()\n",
    "probe.SetSourceData(reader.GetOutput())\n",
    "probe.SetInputData(reader2.GetOutput())\n",
    "probe.Update()\n",
    "\n",
    "da = dsa.WrapDataObject(probe.GetOutput())\n",
    "vv = da.PointData['activation']\n"
   ]
  },
  {
   "cell_type": "code",
   "execution_count": 203,
   "metadata": {},
   "outputs": [],
   "source": [
    "loc = vtk.vtkCellLocator()\n",
    "loc.SetDataSet(reader.GetOutput())\n",
    "loc.BuildLocator()"
   ]
  },
  {
   "cell_type": "code",
   "execution_count": 208,
   "metadata": {},
   "outputs": [
    {
     "name": "stdout",
     "output_type": "stream",
     "text": [
      "[0.20003964128607474, 0.17934345062728715, 0.0] [0.6206169080866382, 0.20003964128607474, 0.17934345062728715, 0.0, 0.0]\n"
     ]
    }
   ],
   "source": [
    "cellId = vtk.reference(0)\n",
    "c = [0.0, 0.0, 0.0]\n",
    "subId = vtk.reference(0)\n",
    "d = vtk.reference(0.0)\n",
    "loc.FindClosestPoint(epts[0,:], c, cellId, subId, d)\n",
    "\n",
    "genCell = vtk.vtkGenericCell()\n",
    "pcoords = [0.0,0.0,0.0]\n",
    "weights = [0,0,0,0,0]\n",
    "loc.FindCell(epts[0,:],1e-4,genCell,pcoords,weights)\n",
    "\n",
    "#epts[0,:],c,cellId\n",
    "\n",
    "print(pcoords,weights)"
   ]
  },
  {
   "cell_type": "code",
   "execution_count": 212,
   "metadata": {},
   "outputs": [
    {
     "name": "stdout",
     "output_type": "stream",
     "text": [
      "vtkPolyData (0x7f7d80c20880)\n",
      "  Debug: Off\n",
      "  Modified Time: 474666\n",
      "  Reference Count: 1\n",
      "  Registered Events: (none)\n",
      "  Information: 0x600002365cc0\n",
      "  Data Released: False\n",
      "  Global Release Data: Off\n",
      "  UpdateTime: 0\n",
      "  Field Data:\n",
      "    Debug: Off\n",
      "    Modified Time: 474635\n",
      "    Reference Count: 1\n",
      "    Registered Events: (none)\n",
      "    Number Of Arrays: 0\n",
      "    Number Of Components: 0\n",
      "    Number Of Tuples: 0\n",
      "  Number Of Points: 330\n",
      "  Number Of Cells: 0\n",
      "  Cell Data:\n",
      "    Debug: Off\n",
      "    Modified Time: 474638\n",
      "    Reference Count: 1\n",
      "    Registered Events: \n",
      "      Registered Observers:\n",
      "        vtkObserver (0x6000038657d0)\n",
      "          Event: 33\n",
      "          EventName: ModifiedEvent\n",
      "          Command: 0x60000152c690\n",
      "          Priority: 0\n",
      "          Tag: 1\n",
      "    Number Of Arrays: 0\n",
      "    Number Of Components: 0\n",
      "    Number Of Tuples: 0\n",
      "    Copy Tuple Flags: ( 1 1 1 1 1 0 1 1 1 1 1 )\n",
      "    Interpolate Flags: ( 1 1 1 1 1 0 0 1 1 1 1 )\n",
      "    Pass Through Flags: ( 1 1 1 1 1 1 1 1 1 1 1 )\n",
      "    Scalars: (none)\n",
      "    Vectors: (none)\n",
      "    Normals: (none)\n",
      "    TCoords: (none)\n",
      "    Tensors: (none)\n",
      "    GlobalIds: (none)\n",
      "    PedigreeIds: (none)\n",
      "    EdgeFlag: (none)\n",
      "    Tangents: (none)\n",
      "    RationalWeights: (none)\n",
      "    HigherOrderDegrees: (none)\n",
      "  Point Data:\n",
      "    Debug: Off\n",
      "    Modified Time: 474637\n",
      "    Reference Count: 1\n",
      "    Registered Events: \n",
      "      Registered Observers:\n",
      "        vtkObserver (0x6000038654d0)\n",
      "          Event: 33\n",
      "          EventName: ModifiedEvent\n",
      "          Command: 0x60000152c690\n",
      "          Priority: 0\n",
      "          Tag: 1\n",
      "    Number Of Arrays: 0\n",
      "    Number Of Components: 0\n",
      "    Number Of Tuples: 0\n",
      "    Copy Tuple Flags: ( 1 1 1 1 1 0 1 1 1 1 1 )\n",
      "    Interpolate Flags: ( 1 1 1 1 1 0 0 1 1 1 1 )\n",
      "    Pass Through Flags: ( 1 1 1 1 1 1 1 1 1 1 1 )\n",
      "    Scalars: (none)\n",
      "    Vectors: (none)\n",
      "    Normals: (none)\n",
      "    TCoords: (none)\n",
      "    Tensors: (none)\n",
      "    GlobalIds: (none)\n",
      "    PedigreeIds: (none)\n",
      "    EdgeFlag: (none)\n",
      "    Tangents: (none)\n",
      "    RationalWeights: (none)\n",
      "    HigherOrderDegrees: (none)\n",
      "  Bounds: \n",
      "    Xmin,Xmax: (-0.988941, 0.073451)\n",
      "    Ymin,Ymax: (-0.992136, 0.908758)\n",
      "    Zmin,Zmax: (-0.700294, 0.996814)\n",
      "  Compute Time: 474668\n",
      "  Editable: false\n",
      "  Number Of Points: 330\n",
      "  Point Coordinates: 0x600001d7d0a0\n",
      "  PointLocator: 0x0\n",
      "  CellLocator: 0x0\n",
      "  Number Of Vertices: 0\n",
      "  Number Of Lines: 0\n",
      "  Number Of Polygons: 0\n",
      "  Number Of Triangle Strips: 0\n",
      "  Number Of Pieces: 1\n",
      "  Piece: -1\n",
      "  Ghost Level: 0\n",
      "  CellsBounds: \n",
      "    Xmin,Xmax: (1, -1)\n",
      "    Ymin,Ymax: (1, -1)\n",
      "    Zmin,Zmax: (1, -1)\n",
      "  CellsBounds Time: 0\n",
      "\n",
      "\n"
     ]
    }
   ],
   "source": [
    "# vtk data for the junctions\n",
    "PMJPoints = vtk.vtkPoints()\n",
    "for p in epts:\n",
    "    PMJPoints.InsertNextPoint(p)\n",
    "PMJunc = vtk.vtkPolyData()\n",
    "PMJunc.SetPoints(PMJPoints)\n",
    "\n",
    "probe = vtk.vtkProbeFilter()\n",
    "probe.SetSourceData(reader.GetOutput())\n",
    "probe.SetInputData(reader2.GetOutput())\n",
    "probe.Update()\n",
    "\n",
    "da = dsa.WrapDataObject(probe.GetOutput())\n",
    "vv = da.PointData['activation']\n",
    "\n",
    "print(PMJunc)\n"
   ]
  }
 ],
 "metadata": {
  "interpreter": {
   "hash": "93f45ab4d9fb4060501aab9ecf255ffec9afcb48c523d1db3ac1feb9ed4469df"
  },
  "kernelspec": {
   "display_name": "Python 3.8.9 64-bit",
   "language": "python",
   "name": "python3"
  },
  "language_info": {
   "codemirror_mode": {
    "name": "ipython",
    "version": 3
   },
   "file_extension": ".py",
   "mimetype": "text/x-python",
   "name": "python",
   "nbconvert_exporter": "python",
   "pygments_lexer": "ipython3",
   "version": "3.8.9"
  },
  "orig_nbformat": 4
 },
 "nbformat": 4,
 "nbformat_minor": 2
}
